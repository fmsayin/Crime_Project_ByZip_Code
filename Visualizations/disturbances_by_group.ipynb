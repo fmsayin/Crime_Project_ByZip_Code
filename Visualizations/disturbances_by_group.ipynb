{
 "cells": [
  {
   "cell_type": "code",
   "execution_count": 1,
   "metadata": {},
   "outputs": [],
   "source": [
    "import pandas as pd\n",
    "import numpy as np\n",
    "import matplotlib.pyplot as plt"
   ]
  },
  {
   "cell_type": "code",
   "execution_count": 4,
   "metadata": {},
   "outputs": [],
   "source": [
    "crime_per_capita_load = \"crime_rates_per_capita_by_zip_groups.csv\"\n",
    "crime_per_capita = pd.read_csv(crime_per_capita_load)"
   ]
  },
  {
   "cell_type": "code",
   "execution_count": 3,
   "metadata": {},
   "outputs": [
    {
     "data": {
      "text/html": [
       "<style  type=\"text/css\" >\n",
       "</style>  \n",
       "<table id=\"T_a347d92e_ff00_11e8_bd03_784f437e68e4\" > \n",
       "<thead>    <tr> \n",
       "        <th class=\"blank level0\" ></th> \n",
       "        <th class=\"col_heading level0 col0\" >Highest Offense Description</th> \n",
       "        <th class=\"col_heading level0 col1\" >Top Tier Per Capita Crimes</th> \n",
       "        <th class=\"col_heading level0 col2\" >Mid Tier Per Capita Crimes</th> \n",
       "        <th class=\"col_heading level0 col3\" >Bottom Tier Per Capita Crimes</th> \n",
       "    </tr></thead> \n",
       "<tbody>    <tr> \n",
       "        <th id=\"T_a347d92e_ff00_11e8_bd03_784f437e68e4level0_row0\" class=\"row_heading level0 row0\" >0</th> \n",
       "        <td id=\"T_a347d92e_ff00_11e8_bd03_784f437e68e4row0_col0\" class=\"data row0 col0\" >disturbances/mischief</td> \n",
       "        <td id=\"T_a347d92e_ff00_11e8_bd03_784f437e68e4row0_col1\" class=\"data row0 col1\" >2.69%</td> \n",
       "        <td id=\"T_a347d92e_ff00_11e8_bd03_784f437e68e4row0_col2\" class=\"data row0 col2\" >2.96%</td> \n",
       "        <td id=\"T_a347d92e_ff00_11e8_bd03_784f437e68e4row0_col3\" class=\"data row0 col3\" >5.84%</td> \n",
       "    </tr>    <tr> \n",
       "        <th id=\"T_a347d92e_ff00_11e8_bd03_784f437e68e4level0_row1\" class=\"row_heading level0 row1\" >1</th> \n",
       "        <td id=\"T_a347d92e_ff00_11e8_bd03_784f437e68e4row1_col0\" class=\"data row1 col0\" >drug/alcohol</td> \n",
       "        <td id=\"T_a347d92e_ff00_11e8_bd03_784f437e68e4row1_col1\" class=\"data row1 col1\" >1.81%</td> \n",
       "        <td id=\"T_a347d92e_ff00_11e8_bd03_784f437e68e4row1_col2\" class=\"data row1 col2\" >0.68%</td> \n",
       "        <td id=\"T_a347d92e_ff00_11e8_bd03_784f437e68e4row1_col3\" class=\"data row1 col3\" >1.74%</td> \n",
       "    </tr>    <tr> \n",
       "        <th id=\"T_a347d92e_ff00_11e8_bd03_784f437e68e4level0_row2\" class=\"row_heading level0 row2\" >2</th> \n",
       "        <td id=\"T_a347d92e_ff00_11e8_bd03_784f437e68e4row2_col0\" class=\"data row2 col0\" >property crime</td> \n",
       "        <td id=\"T_a347d92e_ff00_11e8_bd03_784f437e68e4row2_col1\" class=\"data row2 col1\" >4.49%</td> \n",
       "        <td id=\"T_a347d92e_ff00_11e8_bd03_784f437e68e4row2_col2\" class=\"data row2 col2\" >4.00%</td> \n",
       "        <td id=\"T_a347d92e_ff00_11e8_bd03_784f437e68e4row2_col3\" class=\"data row2 col3\" >6.52%</td> \n",
       "    </tr>    <tr> \n",
       "        <th id=\"T_a347d92e_ff00_11e8_bd03_784f437e68e4level0_row3\" class=\"row_heading level0 row3\" >3</th> \n",
       "        <td id=\"T_a347d92e_ff00_11e8_bd03_784f437e68e4row3_col0\" class=\"data row3 col0\" >family/children</td> \n",
       "        <td id=\"T_a347d92e_ff00_11e8_bd03_784f437e68e4row3_col1\" class=\"data row3 col1\" >0.08%</td> \n",
       "        <td id=\"T_a347d92e_ff00_11e8_bd03_784f437e68e4row3_col2\" class=\"data row3 col2\" >0.50%</td> \n",
       "        <td id=\"T_a347d92e_ff00_11e8_bd03_784f437e68e4row3_col3\" class=\"data row3 col3\" >0.87%</td> \n",
       "    </tr>    <tr> \n",
       "        <th id=\"T_a347d92e_ff00_11e8_bd03_784f437e68e4level0_row4\" class=\"row_heading level0 row4\" >4</th> \n",
       "        <td id=\"T_a347d92e_ff00_11e8_bd03_784f437e68e4row4_col0\" class=\"data row4 col0\" >financial</td> \n",
       "        <td id=\"T_a347d92e_ff00_11e8_bd03_784f437e68e4row4_col1\" class=\"data row4 col1\" >0.75%</td> \n",
       "        <td id=\"T_a347d92e_ff00_11e8_bd03_784f437e68e4row4_col2\" class=\"data row4 col2\" >0.78%</td> \n",
       "        <td id=\"T_a347d92e_ff00_11e8_bd03_784f437e68e4row4_col3\" class=\"data row4 col3\" >0.93%</td> \n",
       "    </tr>    <tr> \n",
       "        <th id=\"T_a347d92e_ff00_11e8_bd03_784f437e68e4level0_row5\" class=\"row_heading level0 row5\" >5</th> \n",
       "        <td id=\"T_a347d92e_ff00_11e8_bd03_784f437e68e4row5_col0\" class=\"data row5 col0\" >sexual offense</td> \n",
       "        <td id=\"T_a347d92e_ff00_11e8_bd03_784f437e68e4row5_col1\" class=\"data row5 col1\" >0.07%</td> \n",
       "        <td id=\"T_a347d92e_ff00_11e8_bd03_784f437e68e4row5_col2\" class=\"data row5 col2\" >0.06%</td> \n",
       "        <td id=\"T_a347d92e_ff00_11e8_bd03_784f437e68e4row5_col3\" class=\"data row5 col3\" >0.12%</td> \n",
       "    </tr>    <tr> \n",
       "        <th id=\"T_a347d92e_ff00_11e8_bd03_784f437e68e4level0_row6\" class=\"row_heading level0 row6\" >6</th> \n",
       "        <td id=\"T_a347d92e_ff00_11e8_bd03_784f437e68e4row6_col0\" class=\"data row6 col0\" >traffic</td> \n",
       "        <td id=\"T_a347d92e_ff00_11e8_bd03_784f437e68e4row6_col1\" class=\"data row6 col1\" >1.26%</td> \n",
       "        <td id=\"T_a347d92e_ff00_11e8_bd03_784f437e68e4row6_col2\" class=\"data row6 col2\" >0.80%</td> \n",
       "        <td id=\"T_a347d92e_ff00_11e8_bd03_784f437e68e4row6_col3\" class=\"data row6 col3\" >1.38%</td> \n",
       "    </tr>    <tr> \n",
       "        <th id=\"T_a347d92e_ff00_11e8_bd03_784f437e68e4level0_row7\" class=\"row_heading level0 row7\" >7</th> \n",
       "        <td id=\"T_a347d92e_ff00_11e8_bd03_784f437e68e4row7_col0\" class=\"data row7 col0\" >statutory</td> \n",
       "        <td id=\"T_a347d92e_ff00_11e8_bd03_784f437e68e4row7_col1\" class=\"data row7 col1\" >1.13%</td> \n",
       "        <td id=\"T_a347d92e_ff00_11e8_bd03_784f437e68e4row7_col2\" class=\"data row7 col2\" >0.35%</td> \n",
       "        <td id=\"T_a347d92e_ff00_11e8_bd03_784f437e68e4row7_col3\" class=\"data row7 col3\" >0.87%</td> \n",
       "    </tr>    <tr> \n",
       "        <th id=\"T_a347d92e_ff00_11e8_bd03_784f437e68e4level0_row8\" class=\"row_heading level0 row8\" >8</th> \n",
       "        <td id=\"T_a347d92e_ff00_11e8_bd03_784f437e68e4row8_col0\" class=\"data row8 col0\" >assault</td> \n",
       "        <td id=\"T_a347d92e_ff00_11e8_bd03_784f437e68e4row8_col1\" class=\"data row8 col1\" >1.40%</td> \n",
       "        <td id=\"T_a347d92e_ff00_11e8_bd03_784f437e68e4row8_col2\" class=\"data row8 col2\" >1.39%</td> \n",
       "        <td id=\"T_a347d92e_ff00_11e8_bd03_784f437e68e4row8_col3\" class=\"data row8 col3\" >2.62%</td> \n",
       "    </tr></tbody> \n",
       "</table> "
      ],
      "text/plain": [
       "<pandas.io.formats.style.Styler at 0x11a266f98>"
      ]
     },
     "execution_count": 3,
     "metadata": {},
     "output_type": "execute_result"
    }
   ],
   "source": [
    "disturbance =crime_per_capita.reindex([1,2,5,3,4,6,8,7,0])\n",
    "disturbance= disturbance.reset_index(drop=True)\n",
    "disturbance.style.format({\n",
    "    'Top Tier Per Capita Crimes': '{:,.2%}'.format,\n",
    "    'Mid Tier Per Capita Crimes': '{:,.2%}'.format,\n",
    "    'Bottom Tier Per Capita Crimes': '{:,.2%}'.format,\n",
    "})"
   ]
  },
  {
   "cell_type": "code",
   "execution_count": 6,
   "metadata": {},
   "outputs": [
    {
     "data": {
      "text/html": [
       "<style  type=\"text/css\" >\n",
       "</style>  \n",
       "<table id=\"T_c9806408_ff00_11e8_bd03_784f437e68e4\" > \n",
       "<thead>    <tr> \n",
       "        <th class=\"blank level0\" ></th> \n",
       "        <th class=\"col_heading level0 col0\" >Highest Offense Description</th> \n",
       "        <th class=\"col_heading level0 col1\" >Top Tier Per Capita Crimes</th> \n",
       "        <th class=\"col_heading level0 col2\" >Mid Tier Per Capita Crimes</th> \n",
       "        <th class=\"col_heading level0 col3\" >Bottom Tier Per Capita Crimes</th> \n",
       "    </tr></thead> \n",
       "<tbody>    <tr> \n",
       "        <th id=\"T_c9806408_ff00_11e8_bd03_784f437e68e4level0_row0\" class=\"row_heading level0 row0\" >0</th> \n",
       "        <td id=\"T_c9806408_ff00_11e8_bd03_784f437e68e4row0_col0\" class=\"data row0 col0\" >disturbances/mischief</td> \n",
       "        <td id=\"T_c9806408_ff00_11e8_bd03_784f437e68e4row0_col1\" class=\"data row0 col1\" >2.69%</td> \n",
       "        <td id=\"T_c9806408_ff00_11e8_bd03_784f437e68e4row0_col2\" class=\"data row0 col2\" >2.96%</td> \n",
       "        <td id=\"T_c9806408_ff00_11e8_bd03_784f437e68e4row0_col3\" class=\"data row0 col3\" >5.84%</td> \n",
       "    </tr></tbody> \n",
       "</table> "
      ],
      "text/plain": [
       "<pandas.io.formats.style.Styler at 0x11a266a90>"
      ]
     },
     "execution_count": 6,
     "metadata": {},
     "output_type": "execute_result"
    }
   ],
   "source": [
    "only_disturbance= danger.iloc[:1]\n",
    "only_disturbance.style.format({\n",
    "    'Top Tier Per Capita Crimes': '{:,.2%}'.format,\n",
    "    'Mid Tier Per Capita Crimes': '{:,.2%}'.format,\n",
    "    'Bottom Tier Per Capita Crimes': '{:,.2%}'.format,\n",
    "    })"
   ]
  },
  {
   "cell_type": "code",
   "execution_count": 32,
   "metadata": {},
   "outputs": [
    {
     "data": {
      "image/png": "[encoded data removed]",
      "text/plain": [
       "<Figure size 432x288 with 1 Axes>"
      ]
     },
     "metadata": {
      "needs_background": "light"
     },
     "output_type": "display_data"
    }
   ],
   "source": [
    "# create bar graph\n",
    "top = only_disturbance['Top Tier Per Capita Crimes']\n",
    "mid = only_disturbance['Mid Tier Per Capita Crimes']\n",
    "bottom = only_disturbance['Bottom Tier Per Capita Crimes']\n",
    "\n",
    "width=.30\n",
    "x_axis_top = np.arange(len(top))\n",
    "x_axis_mid = np.arange(len(mid))\n",
    "x_axis_bottom = np.arange(len(bottom))\n",
    "fig, ax = plt.subplots()\n",
    "plt.bar(x_axis_top, top, color='b', align=\"center\", width = .30, label = \"Top Tier\" )\n",
    "plt.bar(x_axis_mid + width, mid, color='r', align=\"center\", width=.30, label = \"Mid Tier\")\n",
    "plt.bar(x_axis_bottom + (width*2), bottom, color='g', align=\"center\", width=.30, label = \"Bottom Tier\")\n",
    "vals= ax.get_yticks()\n",
    "ax.set_yticklabels(['{:,.2%}'.format(x) for x in vals])\n",
    "plt.title(\"Disturbances by Tiered Zip\")\n",
    "plt.ylabel(\"Percentage of Disturbances per Capita\")\n",
    "plt.xticks([r + width for r in range(1)], (\"\", \"b\"),rotation=0)\n",
    "plt.grid()\n",
    "plt.legend(loc=\"upper left\", title = \"Tiered Zips\")\n",
    "plt.tight_layout()\n",
    "plt.savefig(\"Images/Disturbances_By_Group.png\")\n",
    "plt.show()"
   ]
  }
 ],
 "metadata": {
  "kernelspec": {
   "display_name": "pythondata",
   "language": "python",
   "name": "pythondata"
  },
  "language_info": {
   "codemirror_mode": {
    "name": "ipython",
    "version": 3
   },
   "file_extension": ".py",
   "mimetype": "text/x-python",
   "name": "python",
   "nbconvert_exporter": "python",
   "pygments_lexer": "ipython3",
   "version": "3.7.0"
  }
 },
 "nbformat": 4,
 "nbformat_minor": 2
}
