{
 "cells": [
  {
   "cell_type": "code",
   "execution_count": 1,
   "metadata": {},
   "outputs": [],
   "source": [
    "import pandas as pd\n",
    "import numpy as np\n",
    "import matplotlib.pyplot as plt"
   ]
  },
  {
   "cell_type": "code",
   "execution_count": 2,
   "metadata": {},
   "outputs": [],
   "source": [
    "census_load = \"2016 merged census data.csv\"\n",
    "census_df = pd.read_csv(census_load)"
   ]
  },
  {
   "cell_type": "code",
   "execution_count": 3,
   "metadata": {},
   "outputs": [
    {
     "data": {
      "text/html": [
       "<div>\n",
       "<style scoped>\n",
       "    .dataframe tbody tr th:only-of-type {\n",
       "        vertical-align: middle;\n",
       "    }\n",
       "\n",
       "    .dataframe tbody tr th {\n",
       "        vertical-align: top;\n",
       "    }\n",
       "\n",
       "    .dataframe thead th {\n",
       "        text-align: right;\n",
       "    }\n",
       "</style>\n",
       "<table border=\"1\" class=\"dataframe\">\n",
       "  <thead>\n",
       "    <tr style=\"text-align: right;\">\n",
       "      <th></th>\n",
       "      <th>Zip Code</th>\n",
       "      <th>Total Population (18+)</th>\n",
       "      <th>Less than HS Graduate</th>\n",
       "      <th>HS Graduate</th>\n",
       "      <th>Some College or Associates Degree</th>\n",
       "      <th>Bachelors Degree or Higher</th>\n",
       "    </tr>\n",
       "  </thead>\n",
       "  <tbody>\n",
       "    <tr>\n",
       "      <th>0</th>\n",
       "      <td>78701</td>\n",
       "      <td>7098</td>\n",
       "      <td>299</td>\n",
       "      <td>488</td>\n",
       "      <td>1084</td>\n",
       "      <td>5227</td>\n",
       "    </tr>\n",
       "    <tr>\n",
       "      <th>1</th>\n",
       "      <td>78702</td>\n",
       "      <td>18003</td>\n",
       "      <td>3842</td>\n",
       "      <td>4000</td>\n",
       "      <td>3979</td>\n",
       "      <td>6182</td>\n",
       "    </tr>\n",
       "    <tr>\n",
       "      <th>2</th>\n",
       "      <td>78703</td>\n",
       "      <td>16739</td>\n",
       "      <td>307</td>\n",
       "      <td>588</td>\n",
       "      <td>1977</td>\n",
       "      <td>13867</td>\n",
       "    </tr>\n",
       "    <tr>\n",
       "      <th>3</th>\n",
       "      <td>78704</td>\n",
       "      <td>39370</td>\n",
       "      <td>2476</td>\n",
       "      <td>4266</td>\n",
       "      <td>9775</td>\n",
       "      <td>22853</td>\n",
       "    </tr>\n",
       "    <tr>\n",
       "      <th>4</th>\n",
       "      <td>78705</td>\n",
       "      <td>31595</td>\n",
       "      <td>303</td>\n",
       "      <td>3074</td>\n",
       "      <td>21983</td>\n",
       "      <td>6235</td>\n",
       "    </tr>\n",
       "  </tbody>\n",
       "</table>\n",
       "</div>"
      ],
      "text/plain": [
       "   Zip Code  Total Population (18+)  Less than HS Graduate  HS Graduate  \\\n",
       "0     78701                    7098                    299          488   \n",
       "1     78702                   18003                   3842         4000   \n",
       "2     78703                   16739                    307          588   \n",
       "3     78704                   39370                   2476         4266   \n",
       "4     78705                   31595                    303         3074   \n",
       "\n",
       "   Some College or Associates Degree  Bachelors Degree or Higher  \n",
       "0                               1084                        5227  \n",
       "1                               3979                        6182  \n",
       "2                               1977                       13867  \n",
       "3                               9775                       22853  \n",
       "4                              21983                        6235  "
      ]
     },
     "execution_count": 3,
     "metadata": {},
     "output_type": "execute_result"
    }
   ],
   "source": [
    "total_pop = census_df['HC01_EST_VC02'] + census_df['HC01_EST_VC08']\n",
    "less_than_hs = census_df['HC01_EST_VC03'] + census_df['HC01_EST_VC09'] + census_df['HC01_EST_VC10']\n",
    "hs_grad = census_df['HC01_EST_VC04'] + census_df['HC01_EST_VC11']\n",
    "some_college = census_df['HC01_EST_VC05'] + census_df['HC01_EST_VC12'] + census_df['HC01_EST_VC13']\n",
    "bachelor = census_df['HC01_EST_VC06'] + census_df['HC01_EST_VC14'] + census_df['HC01_EST_VC15']\n",
    "edu_att = census_df ['Zip Code']\n",
    "edu_df= pd.concat([edu_att,total_pop,less_than_hs,hs_grad,some_college,bachelor],axis=1)\n",
    "edu_df.columns = ['Zip Code','Total Population (18+)','Less than HS Graduate', 'HS Graduate', 'Some College or Associates Degree', 'Bachelors Degree or Higher']\n",
    "edu_df.head()"
   ]
  },
  {
   "cell_type": "code",
   "execution_count": 4,
   "metadata": {},
   "outputs": [],
   "source": [
    "bottom = [\"78702\", \"78705\", \"78721\",\"78723\",\"78741\",\"78742\",\"78744\",\"78752\",\"78753\",\"78758\"]\n",
    "bottom_df= edu_df.loc[edu_df[\"Zip Code\"].isin(bottom)]"
   ]
  },
  {
   "cell_type": "code",
   "execution_count": 5,
   "metadata": {},
   "outputs": [
    {
     "data": {
      "text/plain": [
       "Zip Code                             787341\n",
       "Total Population (18+)               250885\n",
       "Less than HS Graduate                 52122\n",
       "HS Graduate                           57488\n",
       "Some College or Associates Degree     81402\n",
       "Bachelors Degree or Higher            59873\n",
       "dtype: int64"
      ]
     },
     "execution_count": 5,
     "metadata": {},
     "output_type": "execute_result"
    }
   ],
   "source": [
    "bottom_df_sum= pd.DataFrame(bottom_df).sum()\n",
    "bottom_df_sum"
   ]
  },
  {
   "cell_type": "code",
   "execution_count": 6,
   "metadata": {},
   "outputs": [],
   "source": [
    "middle = [\"78704\", \"78722\", \"78727\",\"78735\",\"78745\",\"78749\",\"78750\",\"78751\",\"78757\",\"78759\"]\n",
    "middle_df= edu_df.loc[edu_df[\"Zip Code\"].isin(middle)]"
   ]
  },
  {
   "cell_type": "code",
   "execution_count": 7,
   "metadata": {},
   "outputs": [
    {
     "data": {
      "text/plain": [
       "Zip Code                             787399\n",
       "Total Population (18+)               251177\n",
       "Less than HS Graduate                 15928\n",
       "HS Graduate                           34239\n",
       "Some College or Associates Degree     65896\n",
       "Bachelors Degree or Higher           135114\n",
       "dtype: int64"
      ]
     },
     "execution_count": 7,
     "metadata": {},
     "output_type": "execute_result"
    }
   ],
   "source": [
    "middle_df_sum= pd.DataFrame(middle_df).sum()\n",
    "middle_df_sum"
   ]
  },
  {
   "cell_type": "code",
   "execution_count": 8,
   "metadata": {},
   "outputs": [],
   "source": [
    "top = [\"78701\", \"78703\", \"78730\",\"78731\",\"78732\",\"78733\",\"78746\",\"78756\"]\n",
    "top_df= edu_df.loc[edu_df[\"Zip Code\"].isin(top)]"
   ]
  },
  {
   "cell_type": "code",
   "execution_count": 9,
   "metadata": {},
   "outputs": [
    {
     "data": {
      "text/plain": [
       "Zip Code                             629832\n",
       "Total Population (18+)                97617\n",
       "Less than HS Graduate                  2330\n",
       "HS Graduate                            6480\n",
       "Some College or Associates Degree     16227\n",
       "Bachelors Degree or Higher            72580\n",
       "dtype: int64"
      ]
     },
     "execution_count": 9,
     "metadata": {},
     "output_type": "execute_result"
    }
   ],
   "source": [
    "top_df_sum= pd.DataFrame(top_df).sum()\n",
    "top_df_sum"
   ]
  },
  {
   "cell_type": "code",
   "execution_count": 10,
   "metadata": {},
   "outputs": [],
   "source": [
    "edu_df_bottom = pd.DataFrame(bottom_df_sum, columns=['Bottom'])\n",
    "edu_df_mid = pd.DataFrame(middle_df_sum, columns=['Mid'])\n",
    "edu_df_top = pd.DataFrame(top_df_sum, columns=['Top'])"
   ]
  },
  {
   "cell_type": "code",
   "execution_count": 11,
   "metadata": {},
   "outputs": [],
   "source": [
    "combine_groups = pd.concat([edu_df_bottom, edu_df_mid, edu_df_top],axis=1)"
   ]
  },
  {
   "cell_type": "code",
   "execution_count": 13,
   "metadata": {},
   "outputs": [
    {
     "data": {
      "text/html": [
       "<div>\n",
       "<style scoped>\n",
       "    .dataframe tbody tr th:only-of-type {\n",
       "        vertical-align: middle;\n",
       "    }\n",
       "\n",
       "    .dataframe tbody tr th {\n",
       "        vertical-align: top;\n",
       "    }\n",
       "\n",
       "    .dataframe thead th {\n",
       "        text-align: right;\n",
       "    }\n",
       "</style>\n",
       "<table border=\"1\" class=\"dataframe\">\n",
       "  <thead>\n",
       "    <tr style=\"text-align: right;\">\n",
       "      <th></th>\n",
       "      <th>Bottom</th>\n",
       "      <th>Mid</th>\n",
       "      <th>Top</th>\n",
       "    </tr>\n",
       "  </thead>\n",
       "  <tbody>\n",
       "    <tr>\n",
       "      <th>Total Population (18+)</th>\n",
       "      <td>250885</td>\n",
       "      <td>251177</td>\n",
       "      <td>97617</td>\n",
       "    </tr>\n",
       "    <tr>\n",
       "      <th>Less than HS Graduate</th>\n",
       "      <td>52122</td>\n",
       "      <td>15928</td>\n",
       "      <td>2330</td>\n",
       "    </tr>\n",
       "    <tr>\n",
       "      <th>HS Graduate</th>\n",
       "      <td>57488</td>\n",
       "      <td>34239</td>\n",
       "      <td>6480</td>\n",
       "    </tr>\n",
       "    <tr>\n",
       "      <th>Some College or Associates Degree</th>\n",
       "      <td>81402</td>\n",
       "      <td>65896</td>\n",
       "      <td>16227</td>\n",
       "    </tr>\n",
       "    <tr>\n",
       "      <th>Bachelors Degree or Higher</th>\n",
       "      <td>59873</td>\n",
       "      <td>135114</td>\n",
       "      <td>72580</td>\n",
       "    </tr>\n",
       "  </tbody>\n",
       "</table>\n",
       "</div>"
      ],
      "text/plain": [
       "                                   Bottom     Mid    Top\n",
       "Total Population (18+)             250885  251177  97617\n",
       "Less than HS Graduate               52122   15928   2330\n",
       "HS Graduate                         57488   34239   6480\n",
       "Some College or Associates Degree   81402   65896  16227\n",
       "Bachelors Degree or Higher          59873  135114  72580"
      ]
     },
     "execution_count": 13,
     "metadata": {},
     "output_type": "execute_result"
    }
   ],
   "source": [
    "drop_zip= combine_groups.drop(['Zip Code'])\n",
    "drop_zip"
   ]
  },
  {
   "cell_type": "code",
   "execution_count": 14,
   "metadata": {},
   "outputs": [],
   "source": [
    "edu_rate_bottom = drop_zip['Bottom']/250885\n",
    "edu_rate_mid = drop_zip['Mid']/251177\n",
    "edu_rate_top = drop_zip['Top']/97617"
   ]
  },
  {
   "cell_type": "code",
   "execution_count": 15,
   "metadata": {},
   "outputs": [],
   "source": [
    "df_bottom_rate = pd.DataFrame(edu_rate_bottom, columns=['Bottom'])\n",
    "df_mid_rate = pd.DataFrame(edu_rate_mid, columns=['Mid'])\n",
    "df_top_rate = pd.DataFrame(edu_rate_top, columns=['Top'])"
   ]
  },
  {
   "cell_type": "code",
   "execution_count": 16,
   "metadata": {},
   "outputs": [
    {
     "data": {
      "text/html": [
       "<div>\n",
       "<style scoped>\n",
       "    .dataframe tbody tr th:only-of-type {\n",
       "        vertical-align: middle;\n",
       "    }\n",
       "\n",
       "    .dataframe tbody tr th {\n",
       "        vertical-align: top;\n",
       "    }\n",
       "\n",
       "    .dataframe thead th {\n",
       "        text-align: right;\n",
       "    }\n",
       "</style>\n",
       "<table border=\"1\" class=\"dataframe\">\n",
       "  <thead>\n",
       "    <tr style=\"text-align: right;\">\n",
       "      <th></th>\n",
       "      <th>Bottom</th>\n",
       "      <th>Mid</th>\n",
       "      <th>Top</th>\n",
       "    </tr>\n",
       "  </thead>\n",
       "  <tbody>\n",
       "    <tr>\n",
       "      <th>Total Population (18+)</th>\n",
       "      <td>1.000000</td>\n",
       "      <td>1.000000</td>\n",
       "      <td>1.000000</td>\n",
       "    </tr>\n",
       "    <tr>\n",
       "      <th>Less than HS Graduate</th>\n",
       "      <td>0.207753</td>\n",
       "      <td>0.063413</td>\n",
       "      <td>0.023869</td>\n",
       "    </tr>\n",
       "    <tr>\n",
       "      <th>HS Graduate</th>\n",
       "      <td>0.229141</td>\n",
       "      <td>0.136314</td>\n",
       "      <td>0.066382</td>\n",
       "    </tr>\n",
       "    <tr>\n",
       "      <th>Some College or Associates Degree</th>\n",
       "      <td>0.324459</td>\n",
       "      <td>0.262349</td>\n",
       "      <td>0.166231</td>\n",
       "    </tr>\n",
       "    <tr>\n",
       "      <th>Bachelors Degree or Higher</th>\n",
       "      <td>0.238647</td>\n",
       "      <td>0.537923</td>\n",
       "      <td>0.743518</td>\n",
       "    </tr>\n",
       "  </tbody>\n",
       "</table>\n",
       "</div>"
      ],
      "text/plain": [
       "                                     Bottom       Mid       Top\n",
       "Total Population (18+)             1.000000  1.000000  1.000000\n",
       "Less than HS Graduate              0.207753  0.063413  0.023869\n",
       "HS Graduate                        0.229141  0.136314  0.066382\n",
       "Some College or Associates Degree  0.324459  0.262349  0.166231\n",
       "Bachelors Degree or Higher         0.238647  0.537923  0.743518"
      ]
     },
     "execution_count": 16,
     "metadata": {},
     "output_type": "execute_result"
    }
   ],
   "source": [
    "combine_rate_groups = pd.concat([df_bottom_rate, df_mid_rate, df_top_rate],axis=1)\n",
    "combine_rate_groups"
   ]
  },
  {
   "cell_type": "code",
   "execution_count": 18,
   "metadata": {},
   "outputs": [
    {
     "data": {
      "text/html": [
       "<div>\n",
       "<style scoped>\n",
       "    .dataframe tbody tr th:only-of-type {\n",
       "        vertical-align: middle;\n",
       "    }\n",
       "\n",
       "    .dataframe tbody tr th {\n",
       "        vertical-align: top;\n",
       "    }\n",
       "\n",
       "    .dataframe thead th {\n",
       "        text-align: right;\n",
       "    }\n",
       "</style>\n",
       "<table border=\"1\" class=\"dataframe\">\n",
       "  <thead>\n",
       "    <tr style=\"text-align: right;\">\n",
       "      <th></th>\n",
       "      <th>Bottom</th>\n",
       "      <th>Mid</th>\n",
       "      <th>Top</th>\n",
       "    </tr>\n",
       "  </thead>\n",
       "  <tbody>\n",
       "    <tr>\n",
       "      <th>Less than HS Graduate</th>\n",
       "      <td>0.207753</td>\n",
       "      <td>0.063413</td>\n",
       "      <td>0.023869</td>\n",
       "    </tr>\n",
       "    <tr>\n",
       "      <th>HS Graduate</th>\n",
       "      <td>0.229141</td>\n",
       "      <td>0.136314</td>\n",
       "      <td>0.066382</td>\n",
       "    </tr>\n",
       "    <tr>\n",
       "      <th>Some College or Associates Degree</th>\n",
       "      <td>0.324459</td>\n",
       "      <td>0.262349</td>\n",
       "      <td>0.166231</td>\n",
       "    </tr>\n",
       "    <tr>\n",
       "      <th>Bachelors Degree or Higher</th>\n",
       "      <td>0.238647</td>\n",
       "      <td>0.537923</td>\n",
       "      <td>0.743518</td>\n",
       "    </tr>\n",
       "  </tbody>\n",
       "</table>\n",
       "</div>"
      ],
      "text/plain": [
       "                                     Bottom       Mid       Top\n",
       "Less than HS Graduate              0.207753  0.063413  0.023869\n",
       "HS Graduate                        0.229141  0.136314  0.066382\n",
       "Some College or Associates Degree  0.324459  0.262349  0.166231\n",
       "Bachelors Degree or Higher         0.238647  0.537923  0.743518"
      ]
     },
     "execution_count": 18,
     "metadata": {},
     "output_type": "execute_result"
    }
   ],
   "source": [
    "final= combine_rate_groups.drop(['Total Population (18+)'])\n",
    "final"
   ]
  },
  {
   "cell_type": "code",
   "execution_count": 29,
   "metadata": {},
   "outputs": [
    {
     "data": {
      "image/png": "[encoded data removed]",
      "text/plain": [
       "<Figure size 432x288 with 1 Axes>"
      ]
     },
     "metadata": {
      "needs_background": "light"
     },
     "output_type": "display_data"
    }
   ],
   "source": [
    "# create bar graph\n",
    "top = final['Top']\n",
    "mid = final['Mid']\n",
    "bottom = final['Bottom']\n",
    "\n",
    "width=.30\n",
    "x_axis_top = np.arange(len(top))\n",
    "x_axis_mid = np.arange(len(mid))\n",
    "x_axis_bottom = np.arange(len(bottom))\n",
    "fig, ax = plt.subplots()\n",
    "plt.bar(x_axis_top, top, color='b', align=\"center\", width = .30, label = \"Top Tier\" )\n",
    "plt.bar(x_axis_mid + width, mid, color='r', align=\"center\", width=.30, label = \"Mid Tier\")\n",
    "plt.bar(x_axis_bottom + (width*2), bottom, color='g', align=\"center\", width=.30, label = \"Bottom Tier\")\n",
    "vals= ax.get_yticks()\n",
    "ax.set_yticklabels(['{:,.2%}'.format(x) for x in vals])\n",
    "plt.title(\"Educational Attainment by Tier\")\n",
    "plt.ylabel(\"Educational Attainment (%)\")\n",
    "plt.xticks([r + width for r in range(4)], ('Less Than HS Graduate', 'HS Graduate','Some College','Bachelors or Higher'),rotation=60)\n",
    "plt.grid()\n",
    "plt.legend(loc=\"upper left\", title = \"Tiered Zips\")\n",
    "plt.tight_layout()\n",
    "plt.savefig(\"Images/Educational_Attainment_By_Group.png\")\n",
    "plt.show()"
   ]
  },
  {
   "cell_type": "code",
   "execution_count": null,
   "metadata": {},
   "outputs": [],
   "source": []
  }
 ],
 "metadata": {
  "kernelspec": {
   "display_name": "pythondata",
   "language": "python",
   "name": "pythondata"
  },
  "language_info": {
   "codemirror_mode": {
    "name": "ipython",
    "version": 3
   },
   "file_extension": ".py",
   "mimetype": "text/x-python",
   "name": "python",
   "nbconvert_exporter": "python",
   "pygments_lexer": "ipython3",
   "version": "3.7.0"
  }
 },
 "nbformat": 4,
 "nbformat_minor": 2
}
